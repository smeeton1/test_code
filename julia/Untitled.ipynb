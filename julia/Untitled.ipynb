{
 "cells": [
  {
   "cell_type": "code",
   "execution_count": 1,
   "metadata": {},
   "outputs": [],
   "source": [
    "using ITensors"
   ]
  },
  {
   "cell_type": "code",
   "execution_count": 2,
   "metadata": {},
   "outputs": [],
   "source": [
    "i=Index(4);j=Index(4);k=Index(4);l=Index(4);"
   ]
  },
  {
   "cell_type": "code",
   "execution_count": 3,
   "metadata": {},
   "outputs": [],
   "source": [
    "Q=ITensor(i);W=ITensor(j);E=ITensor(k);R=ITensor(l);T=ITensor(l);Y=ITensor(l);"
   ]
  },
  {
   "cell_type": "code",
   "execution_count": 4,
   "metadata": {},
   "outputs": [],
   "source": [
    "Q[1]=1;Q[2]=2;Q[3]=3;Q[4]=4;W[1]=1;W[2]=2;W[3]=3;W[4]=4;E[1]=1;R[4]=1;T[2]=1;Y[3]=1;"
   ]
  },
  {
   "cell_type": "code",
   "execution_count": 5,
   "metadata": {},
   "outputs": [
    {
     "name": "stdout",
     "output_type": "stream",
     "text": [
      "ITensor ord=1\n",
      "Dim 1: (dim=4|id=359)\n",
      "NDTensors.Dense{Float64,Array{Float64,1}}\n",
      " 4-element\n",
      " 1.0\n",
      " 2.0\n",
      " 3.0\n",
      " 4.0"
     ]
    }
   ],
   "source": [
    "show(Q)"
   ]
  },
  {
   "cell_type": "code",
   "execution_count": 6,
   "metadata": {},
   "outputs": [
    {
     "name": "stdout",
     "output_type": "stream",
     "text": [
      "ITensor ord=1\n",
      "Dim 1: (dim=4|id=174)\n",
      "NDTensors.Dense{Float64,Array{Float64,1}}\n",
      " 4-element\n",
      " 1.0\n",
      " 2.0\n",
      " 3.0\n",
      " 4.0"
     ]
    }
   ],
   "source": [
    "show(W)"
   ]
  },
  {
   "cell_type": "code",
   "execution_count": 7,
   "metadata": {},
   "outputs": [
    {
     "name": "stdout",
     "output_type": "stream",
     "text": [
      "ITensor ord=1\n",
      "Dim 1: (dim=4|id=131)\n",
      "NDTensors.Dense{Float64,Array{Float64,1}}\n",
      " 4-element\n",
      " 1.0\n",
      " 0.0\n",
      " 0.0\n",
      " 0.0"
     ]
    }
   ],
   "source": [
    "show(E)"
   ]
  },
  {
   "cell_type": "code",
   "execution_count": 8,
   "metadata": {},
   "outputs": [
    {
     "name": "stdout",
     "output_type": "stream",
     "text": [
      "ITensor ord=1\n",
      "Dim 1: (dim=4|id=870)\n",
      "NDTensors.Dense{Float64,Array{Float64,1}}\n",
      " 4-element\n",
      " 0.0\n",
      " 0.0\n",
      " 0.0\n",
      " 1.0"
     ]
    }
   ],
   "source": [
    "show(R)"
   ]
  },
  {
   "cell_type": "code",
   "execution_count": 9,
   "metadata": {},
   "outputs": [
    {
     "name": "stdout",
     "output_type": "stream",
     "text": [
      "ITensor ord=2\n",
      "Dim 1: (dim=4|id=359)\n",
      "Dim 2: (dim=4|id=131)\n",
      "NDTensors.Dense{Float64,Array{Float64,1}}\n",
      " 4×4\n",
      " 1.0  0.0  0.0  0.0\n",
      " 2.0  0.0  0.0  0.0\n",
      " 3.0  0.0  0.0  0.0\n",
      " 4.0  0.0  0.0  0.0"
     ]
    }
   ],
   "source": [
    "show(Q*E)"
   ]
  },
  {
   "cell_type": "code",
   "execution_count": 10,
   "metadata": {},
   "outputs": [
    {
     "name": "stdout",
     "output_type": "stream",
     "text": [
      "ITensor ord=2\n",
      "Dim 1: (dim=4|id=359)\n",
      "Dim 2: (dim=4|id=870)\n",
      "NDTensors.Dense{Float64,Array{Float64,1}}\n",
      " 4×4\n",
      " 0.0  0.0  0.0  1.0\n",
      " 0.0  0.0  0.0  2.0\n",
      " 0.0  0.0  0.0  3.0\n",
      " 0.0  0.0  0.0  4.0"
     ]
    }
   ],
   "source": [
    "show(Q*R)"
   ]
  },
  {
   "cell_type": "code",
   "execution_count": 21,
   "metadata": {},
   "outputs": [
    {
     "name": "stdout",
     "output_type": "stream",
     "text": [
      "ITensor ord=2\n",
      "Dim 1: (dim=4|id=837)\n",
      "Dim 2: (dim=4|id=309)\n",
      "NDTensors.Dense{Float64,Array{Float64,1}}\n",
      " 4×4\n",
      " 0.0  1.0  0.0  0.0\n",
      " 0.0  2.0  0.0  0.0\n",
      " 0.0  3.0  0.0  0.0\n",
      " 0.0  4.0  0.0  0.0"
     ]
    }
   ],
   "source": [
    "show(Q*T)"
   ]
  },
  {
   "cell_type": "code",
   "execution_count": 22,
   "metadata": {},
   "outputs": [
    {
     "name": "stdout",
     "output_type": "stream",
     "text": [
      "ITensor ord=2\n",
      "Dim 1: (dim=4|id=837)\n",
      "Dim 2: (dim=4|id=309)\n",
      "NDTensors.Dense{Float64,Array{Float64,1}}\n",
      " 4×4\n",
      " 0.0  0.0  1.0  0.0\n",
      " 0.0  0.0  2.0  0.0\n",
      " 0.0  0.0  3.0  0.0\n",
      " 0.0  0.0  4.0  0.0"
     ]
    }
   ],
   "source": [
    "show(Q*Y)"
   ]
  },
  {
   "cell_type": "code",
   "execution_count": 26,
   "metadata": {},
   "outputs": [
    {
     "name": "stdout",
     "output_type": "stream",
     "text": [
      "ITensor ord=2\n",
      "Dim 1: (dim=4|id=837)\n",
      "Dim 2: (dim=4|id=140)\n",
      "NDTensors.Dense{Float64,Array{Float64,1}}\n",
      " 4×4\n",
      " 1.0  2.0   3.0   4.0\n",
      " 2.0  4.0   6.0   8.0\n",
      " 3.0  6.0   9.0  12.0\n",
      " 4.0  8.0  12.0  16.0"
     ]
    }
   ],
   "source": [
    "show(Q*W)"
   ]
  },
  {
   "cell_type": "code",
   "execution_count": 24,
   "metadata": {},
   "outputs": [
    {
     "name": "stdout",
     "output_type": "stream",
     "text": [
      "ITensor ord=3\n",
      "Dim 1: (dim=4|id=837)\n",
      "Dim 2: (dim=4|id=140)\n",
      "Dim 3: (dim=4|id=474)\n",
      "NDTensors.Dense{Float64,Array{Float64,1}}\n",
      " 4×4×4\n",
      "[:, :, 1] =\n",
      " 1.0  2.0   3.0   4.0\n",
      " 2.0  4.0   6.0   8.0\n",
      " 3.0  6.0   9.0  12.0\n",
      " 4.0  8.0  12.0  16.0\n",
      "\n",
      "[:, :, 2] =\n",
      " 0.0  0.0  0.0  0.0\n",
      " 0.0  0.0  0.0  0.0\n",
      " 0.0  0.0  0.0  0.0\n",
      " 0.0  0.0  0.0  0.0\n",
      "\n",
      "[:, :, 3] =\n",
      " 0.0  0.0  0.0  0.0\n",
      " 0.0  0.0  0.0  0.0\n",
      " 0.0  0.0  0.0  0.0\n",
      " 0.0  0.0  0.0  0.0\n",
      "\n",
      "[:, :, 4] =\n",
      " 0.0  0.0  0.0  0.0\n",
      " 0.0  0.0  0.0  0.0\n",
      " 0.0  0.0  0.0  0.0\n",
      " 0.0  0.0  0.0  0.0"
     ]
    }
   ],
   "source": [
    "show(Q*W*E)"
   ]
  },
  {
   "cell_type": "code",
   "execution_count": 11,
   "metadata": {},
   "outputs": [
    {
     "name": "stdout",
     "output_type": "stream",
     "text": [
      "ITensor ord=4\n",
      "Dim 1: (dim=4|id=359)\n",
      "Dim 2: (dim=4|id=174)\n",
      "Dim 3: (dim=4|id=131)\n",
      "Dim 4: (dim=4|id=870)\n",
      "NDTensors.Dense{Float64,Array{Float64,1}}\n",
      " 4×4×4×4\n",
      "[:, :, 1, 1] =\n",
      " 0.0  0.0  0.0  0.0\n",
      " 0.0  0.0  0.0  0.0\n",
      " 0.0  0.0  0.0  0.0\n",
      " 0.0  0.0  0.0  0.0\n",
      "\n",
      "[:, :, 2, 1] =\n",
      " 0.0  0.0  0.0  0.0\n",
      " 0.0  0.0  0.0  0.0\n",
      " 0.0  0.0  0.0  0.0\n",
      " 0.0  0.0  0.0  0.0\n",
      "\n",
      "[:, :, 3, 1] =\n",
      " 0.0  0.0  0.0  0.0\n",
      " 0.0  0.0  0.0  0.0\n",
      " 0.0  0.0  0.0  0.0\n",
      " 0.0  0.0  0.0  0.0\n",
      "\n",
      "[:, :, 4, 1] =\n",
      " 0.0  0.0  0.0  0.0\n",
      " 0.0  0.0  0.0  0.0\n",
      " 0.0  0.0  0.0  0.0\n",
      " 0.0  0.0  0.0  0.0\n",
      "\n",
      "[:, :, 1, 2] =\n",
      " 0.0  0.0  0.0  0.0\n",
      " 0.0  0.0  0.0  0.0\n",
      " 0.0  0.0  0.0  0.0\n",
      " 0.0  0.0  0.0  0.0\n",
      "\n",
      "[:, :, 2, 2] =\n",
      " 0.0  0.0  0.0  0.0\n",
      " 0.0  0.0  0.0  0.0\n",
      " 0.0  0.0  0.0  0.0\n",
      " 0.0  0.0  0.0  0.0\n",
      "\n",
      "[:, :, 3, 2] =\n",
      " 0.0  0.0  0.0  0.0\n",
      " 0.0  0.0  0.0  0.0\n",
      " 0.0  0.0  0.0  0.0\n",
      " 0.0  0.0  0.0  0.0\n",
      "\n",
      "[:, :, 4, 2] =\n",
      " 0.0  0.0  0.0  0.0\n",
      " 0.0  0.0  0.0  0.0\n",
      " 0.0  0.0  0.0  0.0\n",
      " 0.0  0.0  0.0  0.0\n",
      "\n",
      "[:, :, 1, 3] =\n",
      " 0.0  0.0  0.0  0.0\n",
      " 0.0  0.0  0.0  0.0\n",
      " 0.0  0.0  0.0  0.0\n",
      " 0.0  0.0  0.0  0.0\n",
      "\n",
      "[:, :, 2, 3] =\n",
      " 0.0  0.0  0.0  0.0\n",
      " 0.0  0.0  0.0  0.0\n",
      " 0.0  0.0  0.0  0.0\n",
      " 0.0  0.0  0.0  0.0\n",
      "\n",
      "[:, :, 3, 3] =\n",
      " 0.0  0.0  0.0  0.0\n",
      " 0.0  0.0  0.0  0.0\n",
      " 0.0  0.0  0.0  0.0\n",
      " 0.0  0.0  0.0  0.0\n",
      "\n",
      "[:, :, 4, 3] =\n",
      " 0.0  0.0  0.0  0.0\n",
      " 0.0  0.0  0.0  0.0\n",
      " 0.0  0.0  0.0  0.0\n",
      " 0.0  0.0  0.0  0.0\n",
      "\n",
      "[:, :, 1, 4] =\n",
      " 1.0  2.0   3.0   4.0\n",
      " 2.0  4.0   6.0   8.0\n",
      " 3.0  6.0   9.0  12.0\n",
      " 4.0  8.0  12.0  16.0\n",
      "\n",
      "[:, :, 2, 4] =\n",
      " 0.0  0.0  0.0  0.0\n",
      " 0.0  0.0  0.0  0.0\n",
      " 0.0  0.0  0.0  0.0\n",
      " 0.0  0.0  0.0  0.0\n",
      "\n",
      "[:, :, 3, 4] =\n",
      " 0.0  0.0  0.0  0.0\n",
      " 0.0  0.0  0.0  0.0\n",
      " 0.0  0.0  0.0  0.0\n",
      " 0.0  0.0  0.0  0.0\n",
      "\n",
      "[:, :, 4, 4] =\n",
      " 0.0  0.0  0.0  0.0\n",
      " 0.0  0.0  0.0  0.0\n",
      " 0.0  0.0  0.0  0.0\n",
      " 0.0  0.0  0.0  0.0"
     ]
    }
   ],
   "source": [
    "H=Q*W*E*R;show(Q*W*E*R)"
   ]
  },
  {
   "cell_type": "code",
   "execution_count": 54,
   "metadata": {},
   "outputs": [
    {
     "ename": "TypeError",
     "evalue": "TypeError: in Type{...} expression, expected UnionAll, got ITensor{4}",
     "output_type": "error",
     "traceback": [
      "TypeError: in Type{...} expression, expected UnionAll, got ITensor{4}",
      "",
      "Stacktrace:",
      " [1] top-level scope at In[54]:1"
     ]
    }
   ],
   "source": [
    "H{4}"
   ]
  },
  {
   "cell_type": "code",
   "execution_count": 30,
   "metadata": {},
   "outputs": [
    {
     "data": {
      "text/plain": [
       "write_d (generic function with 1 method)"
      ]
     },
     "execution_count": 30,
     "metadata": {},
     "output_type": "execute_result"
    }
   ],
   "source": [
    "function write_d(A)\n",
    "    if order(A)>1 #length(A)>1 #\n",
    "        println(A[1,:])\n",
    "        write_d(A[2:end,:])\n",
    "    else\n",
    "        println(A[:])\n",
    "    end\n",
    "end\n",
    "    \n",
    "        "
   ]
  },
  {
   "cell_type": "code",
   "execution_count": 31,
   "metadata": {},
   "outputs": [
    {
     "ename": "MethodError",
     "evalue": "MethodError: no method matching ind(::Int64)\nClosest candidates are:\n  ind(!Matched::NDTensors.Tensor, !Matched::Integer) at /home/jrod/.julia/packages/NDTensors/5Pqtd/src/tensor.jl:79\n  ind(!Matched::LinearAlgebra.Hermitian{#s63,#s62} where #s62<:NDTensors.Tensor where #s63<:Number, !Matched::Int64) at /home/jrod/.julia/packages/NDTensors/5Pqtd/src/symmetric.jl:12\n  ind(!Matched::IndexVal) at /home/jrod/.julia/packages/ITensors/WvfuN/src/index.jl:466\n  ...",
     "output_type": "error",
     "traceback": [
      "MethodError: no method matching ind(::Int64)\nClosest candidates are:\n  ind(!Matched::NDTensors.Tensor, !Matched::Integer) at /home/jrod/.julia/packages/NDTensors/5Pqtd/src/tensor.jl:79\n  ind(!Matched::LinearAlgebra.Hermitian{#s63,#s62} where #s62<:NDTensors.Tensor where #s63<:Number, !Matched::Int64) at /home/jrod/.julia/packages/NDTensors/5Pqtd/src/symmetric.jl:12\n  ind(!Matched::IndexVal) at /home/jrod/.julia/packages/ITensors/WvfuN/src/index.jl:466\n  ...",
      "",
      "Stacktrace:",
      " [1] _broadcast_getindex_evalf at ./broadcast.jl:631 [inlined]",
      " [2] _broadcast_getindex at ./broadcast.jl:604 [inlined]",
      " [3] (::Base.Broadcast.var\"#19#20\"{Base.Broadcast.Broadcasted{Base.Broadcast.Style{Tuple},Nothing,typeof(ind),Tuple{Tuple{Int64,Colon}}}})(::Int64) at ./broadcast.jl:1024",
      " [4] ntuple at ./ntuple.jl:42 [inlined]",
      " [5] copy(::Base.Broadcast.Broadcasted{Base.Broadcast.Style{Tuple},Nothing,typeof(ind),Tuple{Tuple{Int64,Colon}}}) at ./broadcast.jl:1024",
      " [6] materialize at ./broadcast.jl:820 [inlined]",
      " [7] getindex(::ITensor{4}, ::Int64, ::Function) at /home/jrod/.julia/packages/ITensors/WvfuN/src/itensor.jl:564",
      " [8] write_d(::ITensor{4}) at ./In[30]:3",
      " [9] top-level scope at In[31]:1"
     ]
    }
   ],
   "source": [
    "write_d(H)"
   ]
  },
  {
   "cell_type": "code",
   "execution_count": 21,
   "metadata": {},
   "outputs": [
    {
     "data": {
      "text/plain": [
       "3-element Array{Array{Int64,1},1}:\n",
       " [1, 2, 3, 4]\n",
       " [5, 6, 7, 8]\n",
       " [9, 10, 11, 12]"
      ]
     },
     "execution_count": 21,
     "metadata": {},
     "output_type": "execute_result"
    }
   ],
   "source": [
    "B=[[1,2,3,4],[5,6,7,8],[9,10,11,12]]"
   ]
  },
  {
   "cell_type": "code",
   "execution_count": 26,
   "metadata": {},
   "outputs": [
    {
     "data": {
      "text/plain": [
       "2×1 Array{Array{Int64,1},2}:\n",
       " [5, 6, 7, 8]\n",
       " [9, 10, 11, 12]"
      ]
     },
     "execution_count": 26,
     "metadata": {},
     "output_type": "execute_result"
    }
   ],
   "source": [
    "B[2:end,:]"
   ]
  },
  {
   "cell_type": "code",
   "execution_count": 25,
   "metadata": {},
   "outputs": [
    {
     "data": {
      "text/plain": [
       "ITensor ord=4 (dim=4|id=359) (dim=4|id=174) (dim=4|id=131) (dim=4|id=870)\n",
       "NDTensors.Dense{Float64,Array{Float64,1}}"
      ]
     },
     "execution_count": 25,
     "metadata": {},
     "output_type": "execute_result"
    }
   ],
   "source": [
    "H"
   ]
  },
  {
   "cell_type": "code",
   "execution_count": 39,
   "metadata": {},
   "outputs": [
    {
     "data": {
      "text/plain": [
       "3×1 Array{Array{Int64,1},2}:\n",
       " [1, 2, 3, 4]\n",
       " [5, 6, 7, 8]\n",
       " [9, 10, 11, 12]"
      ]
     },
     "execution_count": 39,
     "metadata": {},
     "output_type": "execute_result"
    }
   ],
   "source": [
    "B[:,:]"
   ]
  },
  {
   "cell_type": "code",
   "execution_count": null,
   "metadata": {},
   "outputs": [],
   "source": []
  }
 ],
 "metadata": {
  "kernelspec": {
   "display_name": "Julia 1.4.2",
   "language": "julia",
   "name": "julia-1.4"
  },
  "language_info": {
   "file_extension": ".jl",
   "mimetype": "application/julia",
   "name": "julia",
   "version": "1.4.2"
  }
 },
 "nbformat": 4,
 "nbformat_minor": 4
}
